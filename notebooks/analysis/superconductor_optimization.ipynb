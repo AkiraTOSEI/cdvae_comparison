{
 "cells": [
  {
   "cell_type": "markdown",
   "metadata": {},
   "source": [
    "# CDVAEの超伝導体最適化実験"
   ]
  },
  {
   "cell_type": "code",
   "execution_count": 31,
   "metadata": {},
   "outputs": [],
   "source": [
    "import torch\n",
    "import os\n",
    "import numpy as np\n",
    "import pandas as pd\n",
    "import matplotlib.pyplot as plt\n",
    "import wandb\n",
    "\n",
    "%matplotlib inline"
   ]
  },
  {
   "cell_type": "code",
   "execution_count": 32,
   "metadata": {},
   "outputs": [],
   "source": [
    "result_dir = '/home/fujii/cdvae_comparison/main_results/supercon/'"
   ]
  },
  {
   "cell_type": "markdown",
   "metadata": {},
   "source": [
    "## CDVAEモデルの学習結果"
   ]
  },
  {
   "cell_type": "code",
   "execution_count": 7,
   "metadata": {},
   "outputs": [],
   "source": [
    "api = wandb.Api()"
   ]
  },
  {
   "cell_type": "code",
   "execution_count": 25,
   "metadata": {},
   "outputs": [],
   "source": [
    "urls = [\n",
    "    'akihiro-fujii-university-of-tokyo/crystal_generation_mit/runs/d4tmcqib',\n",
    "    'akihiro-fujii-university-of-tokyo/crystal_generation_mit/runs/4hj9no48',\n",
    "    'akihiro-fujii-university-of-tokyo/crystal_generation_mit/runs/55cgezjv',\n",
    "]\n",
    "lrs = [\n",
    "    1e-5,\n",
    "    1e-4,\n",
    "    1e-3,\n",
    "]"
   ]
  },
  {
   "cell_type": "code",
   "execution_count": 26,
   "metadata": {},
   "outputs": [],
   "source": [
    "all_results = []\n",
    "for lr, url in zip(lrs, urls):\n",
    "    run = api.run(url)\n",
    "    # ログされた履歴を取得\n",
    "    history = run.history()\n",
    "\n",
    "    # val_lossの最小値とそのステップを取得\n",
    "    min_step = history['val_loss'].idxmin()\n",
    "    min_val_loss = history['val_loss'][min_step]\n",
    "    val_property_loss = history['val_property_loss'][min_step]\n",
    "    all_results.append({\n",
    "        'lr': lr,\n",
    "        'min_val_loss': min_val_loss,\n",
    "        'val_property_loss': val_property_loss,\n",
    "    })"
   ]
  },
  {
   "cell_type": "code",
   "execution_count": 30,
   "metadata": {},
   "outputs": [
    {
     "data": {
      "text/html": [
       "<div>\n",
       "<style scoped>\n",
       "    .dataframe tbody tr th:only-of-type {\n",
       "        vertical-align: middle;\n",
       "    }\n",
       "\n",
       "    .dataframe tbody tr th {\n",
       "        vertical-align: top;\n",
       "    }\n",
       "\n",
       "    .dataframe thead th {\n",
       "        text-align: right;\n",
       "    }\n",
       "</style>\n",
       "<table border=\"1\" class=\"dataframe\">\n",
       "  <thead>\n",
       "    <tr style=\"text-align: right;\">\n",
       "      <th></th>\n",
       "      <th>lr</th>\n",
       "      <th>min_val_loss</th>\n",
       "      <th>val_property_loss</th>\n",
       "    </tr>\n",
       "  </thead>\n",
       "  <tbody>\n",
       "    <tr>\n",
       "      <th>0</th>\n",
       "      <td>0.00001</td>\n",
       "      <td>9.783883</td>\n",
       "      <td>0.901501</td>\n",
       "    </tr>\n",
       "    <tr>\n",
       "      <th>1</th>\n",
       "      <td>0.00010</td>\n",
       "      <td>7.867401</td>\n",
       "      <td>0.622220</td>\n",
       "    </tr>\n",
       "    <tr>\n",
       "      <th>2</th>\n",
       "      <td>0.00100</td>\n",
       "      <td>8.913342</td>\n",
       "      <td>0.607532</td>\n",
       "    </tr>\n",
       "  </tbody>\n",
       "</table>\n",
       "</div>"
      ],
      "text/plain": [
       "        lr  min_val_loss  val_property_loss\n",
       "0  0.00001      9.783883           0.901501\n",
       "1  0.00010      7.867401           0.622220\n",
       "2  0.00100      8.913342           0.607532"
      ]
     },
     "metadata": {},
     "output_type": "display_data"
    }
   ],
   "source": [
    "df = pd.DataFrame(all_results)\n",
    "df.to_csv(os.path.join(result_dir, 'forward_result.csv'), index=False)\n",
    "display(df)"
   ]
  },
  {
   "cell_type": "code",
   "execution_count": 24,
   "metadata": {},
   "outputs": [
    {
     "data": {
      "text/plain": [
       "0.0001"
      ]
     },
     "execution_count": 24,
     "metadata": {},
     "output_type": "execute_result"
    }
   ],
   "source": []
  },
  {
   "cell_type": "code",
   "execution_count": null,
   "metadata": {},
   "outputs": [],
   "source": []
  }
 ],
 "metadata": {
  "kernelspec": {
   "display_name": ".venv",
   "language": "python",
   "name": "python3"
  },
  "language_info": {
   "codemirror_mode": {
    "name": "ipython",
    "version": 3
   },
   "file_extension": ".py",
   "mimetype": "text/x-python",
   "name": "python",
   "nbconvert_exporter": "python",
   "pygments_lexer": "ipython3",
   "version": "3.11.11"
  }
 },
 "nbformat": 4,
 "nbformat_minor": 2
}
