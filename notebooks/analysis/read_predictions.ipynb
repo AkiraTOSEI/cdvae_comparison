{
 "cells": [
  {
   "cell_type": "markdown",
   "metadata": {},
   "source": []
  },
  {
   "cell_type": "markdown",
   "metadata": {},
   "source": [
    "# 推論結果を読み込むノートブック"
   ]
  },
  {
   "cell_type": "code",
   "execution_count": 2,
   "metadata": {},
   "outputs": [],
   "source": [
    "import torch\n",
    "import os\n",
    "import numpy as np\n",
    "import pandas as pd"
   ]
  },
  {
   "cell_type": "markdown",
   "metadata": {},
   "source": [
    "出力構造数は1110個。`evaluate.py`の`optimization`の`num_starting_points` x `num_saved_crys`. `num_saved_crys`は、最適化ステップ中に保存する数だと思う\n",
    "```python\n",
    "def optimization(model, ld_kwargs, data_loader,\n",
    "                 num_starting_points=100, num_gradient_steps=5000,\n",
    "                 lr=1e-3, num_saved_crys=10):\n",
    "```"
   ]
  },
  {
   "cell_type": "code",
   "execution_count": 22,
   "metadata": {},
   "outputs": [],
   "source": [
    "pred_path = '/home/fujii/cdvae_comparison/hydra/singlerun/2025-04-07/perov/eval_opt.pt'"
   ]
  },
  {
   "cell_type": "code",
   "execution_count": 33,
   "metadata": {},
   "outputs": [
    {
     "name": "stderr",
     "output_type": "stream",
     "text": [
      "/tmp/ipykernel_695034/2413252725.py:1: FutureWarning: You are using `torch.load` with `weights_only=False` (the current default value), which uses the default pickle module implicitly. It is possible to construct malicious pickle data which will execute arbitrary code during unpickling (See https://github.com/pytorch/pytorch/blob/main/SECURITY.md#untrusted-models for more details). In a future release, the default value for `weights_only` will be flipped to `True`. This limits the functions that could be executed during unpickling. Arbitrary objects will no longer be allowed to be loaded via this mode unless they are explicitly allowlisted by the user via `torch.serialization.add_safe_globals`. We recommend you start setting `weights_only=True` for any use case where you don't have full control of the loaded file. Please open an issue on GitHub for any issues related to this experimental feature.\n",
      "  d = torch.load(pred_path)\n"
     ]
    },
    {
     "data": {
      "text/plain": [
       "dict_keys(['frac_coords', 'atom_types', 'num_atoms', 'lengths', 'angles', 'prediction', 'eval_setting', 'time'])"
      ]
     },
     "execution_count": 33,
     "metadata": {},
     "output_type": "execute_result"
    }
   ],
   "source": [
    "d = torch.load(pred_path)\n",
    "d.keys()"
   ]
  },
  {
   "cell_type": "code",
   "execution_count": 34,
   "metadata": {},
   "outputs": [
    {
     "data": {
      "text/plain": [
       "torch.Size([1, 1100, 3])"
      ]
     },
     "execution_count": 34,
     "metadata": {},
     "output_type": "execute_result"
    }
   ],
   "source": [
    "d['lengths'].shape"
   ]
  },
  {
   "cell_type": "code",
   "execution_count": 35,
   "metadata": {},
   "outputs": [
    {
     "data": {
      "text/plain": [
       "torch.Size([1, 1100])"
      ]
     },
     "execution_count": 35,
     "metadata": {},
     "output_type": "execute_result"
    }
   ],
   "source": [
    "d['num_atoms'].shape"
   ]
  },
  {
   "cell_type": "code",
   "execution_count": 36,
   "metadata": {},
   "outputs": [
    {
     "data": {
      "text/plain": [
       "torch.Size([1, 5500, 3])"
      ]
     },
     "execution_count": 36,
     "metadata": {},
     "output_type": "execute_result"
    }
   ],
   "source": [
    "d['frac_coords'].shape"
   ]
  },
  {
   "cell_type": "code",
   "execution_count": 37,
   "metadata": {},
   "outputs": [
    {
     "data": {
      "text/plain": [
       "817.2351655960083"
      ]
     },
     "execution_count": 37,
     "metadata": {},
     "output_type": "execute_result"
    }
   ],
   "source": [
    "d['time']"
   ]
  },
  {
   "cell_type": "code",
   "execution_count": 38,
   "metadata": {},
   "outputs": [
    {
     "data": {
      "text/plain": [
       "tensor([ -9.3776,  -9.0939,  -9.2362,  -9.0871,  -9.1140,  -9.4538,  -8.0861,\n",
       "        -10.4972,  -9.2043,  -9.4265, -10.3536, -10.9144, -10.2021,  -9.5155,\n",
       "         -7.8040, -10.6986,  -9.6804,  -9.7943, -11.2451,  -9.0308,  -8.6884,\n",
       "         -9.5172, -11.4584,  -8.4962,  -9.4804, -10.6519, -10.5670,  -9.8261,\n",
       "        -10.1448,  -9.6262, -10.6768, -10.3477,  -8.7265, -11.1908,  -9.2807,\n",
       "        -10.3806, -11.5200, -10.7911, -10.1580, -10.2713, -10.3351, -10.0503,\n",
       "        -10.7968,  -6.6451,  -8.5734,  -8.7020,  -9.1907, -11.6934,  -8.8457,\n",
       "        -11.1631,  -8.3019,  -9.1132,  -6.7187,  -8.9371,  -9.9165,  -7.9010,\n",
       "         -6.7991, -10.9991,  -8.0513, -10.3946,  -9.0104,  -9.2666,  -8.6687,\n",
       "         -9.6364,  -9.2382,  -9.2392,  -6.7957,  -9.9136,  -6.2568, -11.0115,\n",
       "        -10.1548,  -9.9349, -10.6270,  -9.5279,  -9.8795, -10.0662, -10.7580,\n",
       "         -9.5911,  -9.1296,  -9.5661,  -7.8262,  -9.3821,  -9.3327, -11.0383,\n",
       "         -9.9639,  -9.4433,  -9.9258,  -8.9091,  -9.2719, -10.6646,  -9.7652,\n",
       "         -9.8188, -10.2049,  -9.5228,  -8.6762,  -9.7058, -10.1912,  -8.7250,\n",
       "        -10.5159,  -9.8689])"
      ]
     },
     "execution_count": 38,
     "metadata": {},
     "output_type": "execute_result"
    }
   ],
   "source": [
    "d['prediction']"
   ]
  },
  {
   "cell_type": "code",
   "execution_count": null,
   "metadata": {},
   "outputs": [],
   "source": []
  }
 ],
 "metadata": {
  "kernelspec": {
   "display_name": ".venv",
   "language": "python",
   "name": "python3"
  },
  "language_info": {
   "codemirror_mode": {
    "name": "ipython",
    "version": 3
   },
   "file_extension": ".py",
   "mimetype": "text/x-python",
   "name": "python",
   "nbconvert_exporter": "python",
   "pygments_lexer": "ipython3",
   "version": "3.11.11"
  }
 },
 "nbformat": 4,
 "nbformat_minor": 2
}
