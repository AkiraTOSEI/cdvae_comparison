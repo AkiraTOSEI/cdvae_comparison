{
 "cells": [
  {
   "cell_type": "markdown",
   "metadata": {},
   "source": [
    "# Perovデータセットの形式を確かめて、MEGNetデータセットに変換する"
   ]
  },
  {
   "cell_type": "code",
   "execution_count": 6,
   "metadata": {},
   "outputs": [],
   "source": [
    "import os\n",
    "import matplotlib.pyplot as plt\n",
    "import numpy as np\n",
    "import pandas as pd\n",
    "from jarvis.db.figshare import data as jdata\n",
    "from jarvis.core.atoms import Atoms\n",
    "from sklearn.model_selection import train_test_split\n",
    "from pymatgen.core import Element as Element_pmg\n",
    "from IPython.display import display, HTML, clear_output\n",
    "\n",
    "from pymatgen.core import Structure\n",
    "from pymatgen.analysis.structure_matcher import StructureMatcher\n",
    "\n",
    "from sklearn.model_selection import StratifiedShuffleSplit\n",
    "\n",
    "\n",
    "%matplotlib inline"
   ]
  },
  {
   "cell_type": "markdown",
   "metadata": {},
   "source": [
    "# Perovデータセットの形式を確かめる"
   ]
  },
  {
   "cell_type": "code",
   "execution_count": 2,
   "metadata": {},
   "outputs": [
    {
     "data": {
      "text/html": [
       "<div>\n",
       "<style scoped>\n",
       "    .dataframe tbody tr th:only-of-type {\n",
       "        vertical-align: middle;\n",
       "    }\n",
       "\n",
       "    .dataframe tbody tr th {\n",
       "        vertical-align: top;\n",
       "    }\n",
       "\n",
       "    .dataframe thead th {\n",
       "        text-align: right;\n",
       "    }\n",
       "</style>\n",
       "<table border=\"1\" class=\"dataframe\">\n",
       "  <thead>\n",
       "    <tr style=\"text-align: right;\">\n",
       "      <th></th>\n",
       "      <th>Unnamed: 0</th>\n",
       "      <th>material_id</th>\n",
       "      <th>cif</th>\n",
       "      <th>formula</th>\n",
       "      <th>heat_all</th>\n",
       "      <th>heat_ref</th>\n",
       "      <th>dir_gap</th>\n",
       "      <th>ind_gap</th>\n",
       "    </tr>\n",
       "  </thead>\n",
       "  <tbody>\n",
       "    <tr>\n",
       "      <th>0</th>\n",
       "      <td>996</td>\n",
       "      <td>3961</td>\n",
       "      <td># generated using pymatgen\\ndata_TiOsNOF\\n_sym...</td>\n",
       "      <td>TiOsOFN</td>\n",
       "      <td>1.16</td>\n",
       "      <td>1.438331</td>\n",
       "      <td>0.0</td>\n",
       "      <td>0.0</td>\n",
       "    </tr>\n",
       "    <tr>\n",
       "      <th>1</th>\n",
       "      <td>13356</td>\n",
       "      <td>11922</td>\n",
       "      <td># generated using pymatgen\\ndata_TlRuO2F\\n_sym...</td>\n",
       "      <td>RuTlO2F</td>\n",
       "      <td>1.66</td>\n",
       "      <td>1.604896</td>\n",
       "      <td>0.0</td>\n",
       "      <td>0.0</td>\n",
       "    </tr>\n",
       "    <tr>\n",
       "      <th>2</th>\n",
       "      <td>17389</td>\n",
       "      <td>6694</td>\n",
       "      <td># generated using pymatgen\\ndata_BiPtN2O\\n_sym...</td>\n",
       "      <td>PtBiON2</td>\n",
       "      <td>1.56</td>\n",
       "      <td>1.569679</td>\n",
       "      <td>0.0</td>\n",
       "      <td>0.0</td>\n",
       "    </tr>\n",
       "    <tr>\n",
       "      <th>3</th>\n",
       "      <td>5951</td>\n",
       "      <td>3335</td>\n",
       "      <td># generated using pymatgen\\ndata_VRhNOF\\n_symm...</td>\n",
       "      <td>VRhOFN</td>\n",
       "      <td>1.56</td>\n",
       "      <td>1.566713</td>\n",
       "      <td>0.0</td>\n",
       "      <td>0.0</td>\n",
       "    </tr>\n",
       "    <tr>\n",
       "      <th>4</th>\n",
       "      <td>10279</td>\n",
       "      <td>18565</td>\n",
       "      <td># generated using pymatgen\\ndata_CuAsN3\\n_symm...</td>\n",
       "      <td>CuAsN3</td>\n",
       "      <td>1.96</td>\n",
       "      <td>1.957102</td>\n",
       "      <td>0.0</td>\n",
       "      <td>0.0</td>\n",
       "    </tr>\n",
       "  </tbody>\n",
       "</table>\n",
       "</div>"
      ],
      "text/plain": [
       "   Unnamed: 0  material_id                                                cif  \\\n",
       "0         996         3961  # generated using pymatgen\\ndata_TiOsNOF\\n_sym...   \n",
       "1       13356        11922  # generated using pymatgen\\ndata_TlRuO2F\\n_sym...   \n",
       "2       17389         6694  # generated using pymatgen\\ndata_BiPtN2O\\n_sym...   \n",
       "3        5951         3335  # generated using pymatgen\\ndata_VRhNOF\\n_symm...   \n",
       "4       10279        18565  # generated using pymatgen\\ndata_CuAsN3\\n_symm...   \n",
       "\n",
       "   formula  heat_all  heat_ref  dir_gap  ind_gap  \n",
       "0  TiOsOFN      1.16  1.438331      0.0      0.0  \n",
       "1  RuTlO2F      1.66  1.604896      0.0      0.0  \n",
       "2  PtBiON2      1.56  1.569679      0.0      0.0  \n",
       "3   VRhOFN      1.56  1.566713      0.0      0.0  \n",
       "4   CuAsN3      1.96  1.957102      0.0      0.0  "
      ]
     },
     "metadata": {},
     "output_type": "display_data"
    },
    {
     "name": "stdout",
     "output_type": "stream",
     "text": [
      "Index(['Unnamed: 0', 'material_id', 'cif', 'formula', 'heat_all', 'heat_ref',\n",
      "       'dir_gap', 'ind_gap'],\n",
      "      dtype='object')\n"
     ]
    }
   ],
   "source": [
    "perov_data_path = '../data/perov_5/test.csv'\n",
    "df = pd.read_csv(perov_data_path)\n",
    "display(df.head())\n",
    "print(df.columns)"
   ]
  },
  {
   "cell_type": "code",
   "execution_count": 3,
   "metadata": {},
   "outputs": [
    {
     "name": "stdout",
     "output_type": "stream",
     "text": [
      "Full Formula (Ti1 Os1 N1 O1 F1)\n",
      "Reduced Formula: TiOsNOF\n",
      "abc   :   4.056322   4.056322   4.056322\n",
      "angles:  90.000000  90.000000  90.000000\n",
      "pbc   :       True       True       True\n",
      "Sites (5)\n",
      "  #  SP           a    b    c\n",
      "---  ----  --------  ---  ---\n",
      "  0  Ti    0.609211  0    0\n",
      "  1  Os    0.776199  0.5  0.5\n",
      "  2  N     0.742001  0.5  0\n",
      "  3  O     0.231433  0.5  0.5\n",
      "  4  F     0.415284  0    0.5\n"
     ]
    }
   ],
   "source": [
    "cif_str = df.cif.loc[0]\n",
    "with open(\"test.cif\", \"w\") as f:\n",
    "    f.write(cif_str)\n",
    "from pymatgen.core import Structure\n",
    "\n",
    "structure = Structure.from_file(\"test.cif\")\n",
    "print(structure)"
   ]
  },
  {
   "cell_type": "code",
   "execution_count": 7,
   "metadata": {},
   "outputs": [],
   "source": [
    "from pymatgen.core import Structure, Lattice\n",
    "from pymatgen.io.cif import CifWriter\n",
    "\n",
    "def create_cif_string(data_atom_dict):\n",
    "    # 入力データ\n",
    "    structure_dict = {\n",
    "        'lattice_mat': data_atom_dict['lattice_mat'],\n",
    "        'coords': data_atom_dict['coords'],\n",
    "        'elements': data_atom_dict['elements'],\n",
    "        'cartesian': data_atom_dict['cartesian']\n",
    "    }\n",
    "\n",
    "    # Latticeオブジェクトの作成\n",
    "    lattice = Lattice(structure_dict['lattice_mat'])\n",
    "\n",
    "    # Structureの作成\n",
    "    structure = Structure(\n",
    "        lattice,\n",
    "        structure_dict['elements'],\n",
    "        structure_dict['coords'],\n",
    "        coords_are_cartesian=structure_dict['cartesian']\n",
    "    )\n",
    "\n",
    "    # CIFファイルとして保存\n",
    "    cif_writer = CifWriter(structure)\n",
    "    return str(cif_writer)"
   ]
  },
  {
   "cell_type": "code",
   "execution_count": 8,
   "metadata": {},
   "outputs": [],
   "source": [
    "from collections import Counter\n",
    "\n",
    "def elements_to_formula(elements):\n",
    "    counts = Counter(elements)\n",
    "    # 元素記号の順序を維持（リスト順）\n",
    "    unique_order = []\n",
    "    for e in elements:\n",
    "        if e not in unique_order:\n",
    "            unique_order.append(e)\n",
    "    # 化学式を構築\n",
    "    formula = ''\n",
    "    for elem in unique_order:\n",
    "        count = counts[elem]\n",
    "        formula += elem\n",
    "        if count > 1:\n",
    "            formula += str(count)\n",
    "    return formula"
   ]
  },
  {
   "cell_type": "markdown",
   "metadata": {},
   "source": [
    "# JARVIS Superconductorをダウンロードして、perov datasetの形式と合わせる\n",
    "- 文献URL: https://www.nature.com/articles/s41524-022-00933-1\n",
    "- 80:10:10 training-validation-testing data split"
   ]
  },
  {
   "cell_type": "code",
   "execution_count": 56,
   "metadata": {},
   "outputs": [],
   "source": [
    "sc_data_path = '../data/supercon'\n",
    "os.makedirs(sc_data_path, exist_ok=True)"
   ]
  },
  {
   "cell_type": "code",
   "execution_count": 22,
   "metadata": {},
   "outputs": [
    {
     "name": "stdout",
     "output_type": "stream",
     "text": [
      "Obtaining supercond. Tc dataset 1058...\n",
      "Reference:https://www.nature.com/articles/s41524-022-00933-1\n"
     ]
    },
    {
     "name": "stderr",
     "output_type": "stream",
     "text": [
      "100%|██████████| 8.83M/8.83M [00:10<00:00, 823kiB/s] \n"
     ]
    },
    {
     "name": "stdout",
     "output_type": "stream",
     "text": [
      "Loading the zipfile...\n",
      "Loading completed.\n"
     ]
    },
    {
     "data": {
      "text/plain": [
       "dict_keys(['stability', 'jid', 'atoms', 'cfid', 'wlog', 'lamb', 'Tc', 'a2F', 'a2F_original_x', 'a2F_original_y', 'press'])"
      ]
     },
     "execution_count": 22,
     "metadata": {},
     "output_type": "execute_result"
    }
   ],
   "source": [
    "dataset = jdata(\"supercon_3d\")\n",
    "data = dataset[0]\n",
    "data.keys()"
   ]
  },
  {
   "cell_type": "code",
   "execution_count": 57,
   "metadata": {},
   "outputs": [],
   "source": [
    "data_dict_list = []\n",
    "for data_i, data in enumerate(dataset):\n",
    "    cif_string = create_cif_string(data['atoms'])\n",
    "    formula = elements_to_formula(data['atoms']['elements'])\n",
    "    data_dict_list.append({\n",
    "        'material_id' :data_i,\n",
    "        'cif': cif_string,\n",
    "        'formula': formula,\n",
    "        'tc':data['Tc'],\n",
    "    })\n",
    "df = pd.DataFrame(data_dict_list)"
   ]
  },
  {
   "cell_type": "code",
   "execution_count": 58,
   "metadata": {},
   "outputs": [],
   "source": [
    "# dfをシャッフルし、80:10:10にtrain, val, testに分割する\n",
    "# 80%をtrain、10%をval、10%をtestに分割\n",
    "train_df, test_df = train_test_split(df, test_size=0.2, random_state=42)\n",
    "val_df, test_df = train_test_split(test_df, test_size=0.5, random_state=42)\n",
    "train_df.to_csv(os.path.join(sc_data_path, 'train.csv'), index=False)\n",
    "val_df.to_csv(os.path.join(sc_data_path, 'val.csv'), index=False)\n",
    "test_df.to_csv(os.path.join(sc_data_path, 'test.csv'), index=False)"
   ]
  },
  {
   "cell_type": "markdown",
   "metadata": {},
   "source": [
    "# MEGNetをダウンロードして、perov datasetの形式と合わせる\n",
    "- ALIGNNにおけるデータ分割の比率は、60000–5000–4239"
   ]
  },
  {
   "cell_type": "code",
   "execution_count": 3,
   "metadata": {},
   "outputs": [
    {
     "name": "stdout",
     "output_type": "stream",
     "text": [
      "Obtaining MEGNET-3D CFID dataset 69k...\n",
      "Reference:https://pubs.acs.org/doi/10.1021/acs.chemmater.9b01294\n",
      "Loading the zipfile...\n",
      "Loading completed.\n"
     ]
    },
    {
     "data": {
      "text/plain": [
       "dict_keys(['id', 'desc', 'formula', 'e_hull', 'gap pbe', 'mu_b', 'elastic anisotropy', 'bulk modulus', 'shear modulus', 'atoms', 'e_form'])"
      ]
     },
     "execution_count": 3,
     "metadata": {},
     "output_type": "execute_result"
    }
   ],
   "source": [
    "dataset = jdata(\"megnet\")\n",
    "data = dataset[0]\n",
    "data.keys()"
   ]
  },
  {
   "cell_type": "code",
   "execution_count": 4,
   "metadata": {},
   "outputs": [],
   "source": [
    "megnet_data_path = '../data/megnet'\n",
    "os.makedirs(megnet_data_path, exist_ok=True)"
   ]
  },
  {
   "cell_type": "markdown",
   "metadata": {},
   "source": [
    "### perovskiteデータを探索し、ラベルをつける"
   ]
  },
  {
   "cell_type": "code",
   "execution_count": 9,
   "metadata": {},
   "outputs": [],
   "source": [
    "import copy\n",
    "\n",
    "matcher = StructureMatcher(stol=0.1, angle_tol=5, primitive_cell=True, scale=True)"
   ]
  },
  {
   "cell_type": "code",
   "execution_count": 10,
   "metadata": {},
   "outputs": [],
   "source": [
    "perov_coords = [\n",
    "    [0, 0, 0],         # B\n",
    "    [0.5, 0.5, 0.5],   # A\n",
    "    [0.5, 0, 0.5],     # X\n",
    "    [0, 0.5, 0.5],     # X\n",
    "    [0.5, 0.5, 0],     # X\n",
    "]\n",
    "\n",
    "def check_perovskite_unitcell(data, perov_coords):\n",
    "    # ペロブスカイト構造っぽい候補の座標を、reference構造の座標と比較する\n",
    "    data_dict = copy.deepcopy(data['atoms'])\n",
    "    data_dict['elements'] = ['H']*5 # 座標の比較のみを行うため、元素はHに置き換え\n",
    "    # --- Structureオブジェクトに変換 ---\n",
    "    lattice = Lattice(data_dict['lattice_mat'])\n",
    "    structure1 = Structure(lattice, data_dict['elements'], data_dict['coords'], coords_are_cartesian=data_dict['cartesian'])\n",
    "\n",
    "    # 参照となる座標を持つ辞書を作成\n",
    "    reference_pereovskie_dict = {\n",
    "        'lattice_mat': data_dict['lattice_mat'],\n",
    "        'coords':perov_coords,\n",
    "        'elements': ['H']*5,\n",
    "        'abc': data_dict['abc'],\n",
    "        'angles': data_dict['angles'],\n",
    "        'cartesian': data_dict['cartesian'],\n",
    "        'props': data_dict['props'],\n",
    "    }\n",
    "    # --- Structureオブジェクトに変換 ---\n",
    "    lattice = Lattice(reference_pereovskie_dict['lattice_mat'])\n",
    "    structure2 = Structure(lattice, reference_pereovskie_dict['elements'], reference_pereovskie_dict['coords'], coords_are_cartesian=reference_pereovskie_dict['cartesian'])\n",
    "    # 構造の比較\n",
    "    return matcher.fit(structure1, structure2)\n"
   ]
  },
  {
   "cell_type": "code",
   "execution_count": 13,
   "metadata": {},
   "outputs": [],
   "source": [
    "from typing import List, Tuple, Optional\n",
    "from smact import Element\n",
    "from tqdm.notebook import tqdm\n",
    "from pymatgen.core import Element as Element_pmg\n",
    "from collections import Counter\n",
    "from typing import List, Tuple, Optional\n",
    "from collections import Counter\n",
    "import itertools\n",
    "\n",
    "def element_count_grouped(species_list):\n",
    "    counts = Counter(species_list)\n",
    "    return [[counts[elem]] for elem in counts]\n",
    "\n",
    "def elec_neutral_check_SUPER_COMMON(num_i:int, total:int, elements: List[str], stoichs: List[List[int]], return_all_ox_states:bool=False) -> Tuple[bool, Optional[Tuple[int]]]:\n",
    "    \"\"\"\n",
    "    Check for electrical neutrality using PyMatGen icsd_oxidation_states method by evaluating possible oxidation states combinations.\n",
    "\n",
    "    Args:\n",
    "        num_i (int): Index of the structure (for tqdm display)\n",
    "        total (int): Total number of structures. (for tqdm display)\n",
    "        elements (List[str]): List of element symbols.\n",
    "        stoichs (List[List[int]]): List of lists containing stoichiometries.\n",
    "        return_all_ox_states (bool): Whether to return all possible oxidation states combinations.\n",
    "\n",
    "    Returns:\n",
    "        Tuple[bool, Optional[Tuple[int]]]: A tuple where the first element is a boolean indicating \n",
    "                                           whether the input is electrically neutral, and the second \n",
    "                                           element is a tuple of oxidation states that make it neutral \n",
    "                                           (or None if no neutral combination is found).\n",
    "\n",
    "    Examples:\n",
    "        >>> elec_neutral_check_SUPER_COMMON(5, 10, elements=['Ti', 'O'], stoichs=[[1], [2]])\n",
    "        (True, , ['Ti', 'O', 'O'], (4, -2, -2)))\n",
    "        >>> elec_neutral_check_SUPER_COMMON(5, 10, elements = ['Ti', 'Al', 'O'], stoichs = [[1],[1],[1]])\n",
    "        (False, ['Ti', 'Al', 'O'], None)\n",
    "        >>> elec_neutral_check_SUPER_COMMON(5, 10, elements=['He', 'O'], stoichs=[[1], [2]])\n",
    "        (False, ['H', 'O', 'O'], None)\n",
    "    \"\"\"   \n",
    "    all_elements = []\n",
    "    for elem, stoi in zip(elements, stoichs):\n",
    "        assert len(stoi) == 1\n",
    "        all_elements.extend([elem]*stoi[0])\n",
    "    ox_combos = [\n",
    "        list(set(Element_pmg(elem).icsd_oxidation_states) & set(Element_pmg(elem).oxidation_states) & set(Element_pmg(elem).ionic_radii.keys()) & set(Element_pmg(elem).common_oxidation_states))\n",
    "        for elem in all_elements    \n",
    "    ]\n",
    "\n",
    "    # check excluding non-oxidation state elements\n",
    "    if any([len(ox) == 0 for ox in ox_combos]):\n",
    "        return False, all_elements, None\n",
    "\n",
    "    lengths = np.array([len(sublist) for sublist in ox_combos])\n",
    "    product_of_lengths = np.prod(lengths)\n",
    "\n",
    "    if return_all_ox_states:\n",
    "        all_neutral_ox_states = []\n",
    "        for ox_states in tqdm(itertools.product(*ox_combos), total=product_of_lengths,leave=False, desc=f\"neutral check ({num_i+1}/{total}) by PMG\"):\n",
    "            if sum(ox_states) == 0:\n",
    "                all_neutral_ox_states.append(ox_states)\n",
    "        return len(all_neutral_ox_states)>0, all_elements, all_neutral_ox_states\n",
    "\n",
    "    else:\n",
    "        for ox_states in tqdm(itertools.product(*ox_combos), total=product_of_lengths,leave=False, desc=f\"neutral check ({num_i+1}/{total}) by PMG\"):\n",
    "            if sum(ox_states) == 0:\n",
    "                return True, all_elements, ox_states\n",
    "            \n",
    "        return False, all_elements, None"
   ]
  },
  {
   "cell_type": "code",
   "execution_count": 14,
   "metadata": {},
   "outputs": [
    {
     "data": {
      "application/vnd.jupyter.widget-view+json": {
       "model_id": "a10688fc76674b918574894b5464894c",
       "version_major": 2,
       "version_minor": 0
      },
      "text/plain": [
       "neutral check (1/1) by PMG:   0%|          | 0/1 [00:00<?, ?it/s]"
      ]
     },
     "metadata": {},
     "output_type": "display_data"
    },
    {
     "name": "stdout",
     "output_type": "stream",
     "text": [
      "Found a candidate for perovskite with elements: ['Ba', 'Ti', 'O', 'O', 'O'], oxidation states: [(2, 4, -2, -2, -2)]\n"
     ]
    }
   ],
   "source": [
    "\n",
    "\n",
    "# 1分弱かかる(40s)\n",
    "megnet_data_dict_list = []\n",
    "for data in dataset:\n",
    "    cif_string = create_cif_string(data['atoms'])\n",
    "    formula = elements_to_formula(data['atoms']['elements'])\n",
    "    num_data = len(data['atoms']['elements'])\n",
    "    megnet_data_dict = {\n",
    "        'gap': data['gap pbe'],\n",
    "        'e_form':data['e_form'],\n",
    "        'cif': cif_string,\n",
    "        'formula': formula,\n",
    "        '100more':num_data > 100,\n",
    "        'tolerance': 0,\n",
    "    }\n",
    "    # 角度が90度に近いものを探す\n",
    "    if (np.abs(np.array(data['atoms']['angles'])-90) < 5).all() and len(data['atoms']['coords']) == 5 and (data['atoms']['cartesian']==False):\n",
    "        # perovskiteの候補\n",
    "        if check_perovskite_unitcell(data, perov_coords):\n",
    "            # 電気的中性を確認\n",
    "            is_neutral, all_elements, ox_states = elec_neutral_check_SUPER_COMMON(0, 1, data['atoms']['elements'], element_count_grouped(data['atoms']['elements']), return_all_ox_states=True)\n",
    "            if is_neutral:\n",
    "                print(f\"Found a candidate for perovskite with elements: {all_elements}, oxidation states: {ox_states}\")\n",
    "                # ここで、見つかった構造を保存するなどの処理を行うことができます\n",
    "                ox_states_set = [set(ox) for ox in ox_states]\n",
    "                if {-2, 2, 4} in ox_states_set:\n",
    "                    idx = ox_states_set.index({-2, 2, 4}) \n",
    "                    Asite_ox, Bsite_ox, Xsite_ox = 2, 4, -2\n",
    "                elif {-1, 1, 2} in ox_states_set:\n",
    "                    idx = ox_states_set.index({-1, 1, 2})\n",
    "                    Asite_ox, Bsite_ox, Xsite_ox = 1, 2, -1\n",
    "                else:\n",
    "                    continue\n",
    "                    raise Exception('Perovskiteではない？')\n",
    "                perov_ox_states = ox_states[idx]\n",
    "                \n",
    "                Asite_id = perov_ox_states.index(Asite_ox)\n",
    "                Bsite_id = perov_ox_states.index(Bsite_ox)\n",
    "                X_site_ids = list(range(5))\n",
    "                X_site_ids.remove(Asite_id)\n",
    "                X_site_ids.remove(Bsite_id)\n",
    "\n",
    "\n",
    "                Asite_radii = Element_pmg(data['atoms']['elements'][Asite_id]).ionic_radii[Asite_ox]\n",
    "                Bsite_radii = Element_pmg(data['atoms']['elements'][Bsite_id]).ionic_radii[Bsite_ox]\n",
    "                Xsite1_radii = Element_pmg(data['atoms']['elements'][X_site_ids[0]]).ionic_radii[Xsite_ox]\n",
    "                Xsite2_radii = Element_pmg(data['atoms']['elements'][X_site_ids[1]]).ionic_radii[Xsite_ox]\n",
    "                Xsite3_radii = Element_pmg(data['atoms']['elements'][X_site_ids[2]]).ionic_radii[Xsite_ox]\n",
    "                Xsite_radii = np.mean([Xsite1_radii, Xsite2_radii, Xsite3_radii])\n",
    "                tolerance_val = (Asite_radii + Xsite_radii)/(np.sqrt(2)*(Bsite_radii + Xsite_radii))\n",
    "                if 0.8 <= tolerance_val < 1.0:\n",
    "                    megnet_data_dict['tolerance'] = 1.0\n",
    "\n",
    "                \n",
    "            else:\n",
    "                print(f\"Not electrically neutral: {all_elements}\")\n",
    "            clear_output(wait=True)\n",
    "\n",
    "    megnet_data_dict_list.append(megnet_data_dict)\n"
   ]
  },
  {
   "cell_type": "code",
   "execution_count": 15,
   "metadata": {},
   "outputs": [
    {
     "data": {
      "text/html": [
       "<div>\n",
       "<style scoped>\n",
       "    .dataframe tbody tr th:only-of-type {\n",
       "        vertical-align: middle;\n",
       "    }\n",
       "\n",
       "    .dataframe tbody tr th {\n",
       "        vertical-align: top;\n",
       "    }\n",
       "\n",
       "    .dataframe thead th {\n",
       "        text-align: right;\n",
       "    }\n",
       "</style>\n",
       "<table border=\"1\" class=\"dataframe\">\n",
       "  <thead>\n",
       "    <tr style=\"text-align: right;\">\n",
       "      <th></th>\n",
       "      <th>material_id</th>\n",
       "      <th>cif</th>\n",
       "      <th>gap</th>\n",
       "      <th>e_form</th>\n",
       "      <th>formula</th>\n",
       "      <th>100more</th>\n",
       "      <th>tolerance</th>\n",
       "    </tr>\n",
       "  </thead>\n",
       "  <tbody>\n",
       "    <tr>\n",
       "      <th>0</th>\n",
       "      <td>0</td>\n",
       "      <td># generated using pymatgen\\ndata_As\\n_symmetry...</td>\n",
       "      <td>0.0000</td>\n",
       "      <td>0.107405</td>\n",
       "      <td>As2</td>\n",
       "      <td>0.0</td>\n",
       "      <td>0.0</td>\n",
       "    </tr>\n",
       "    <tr>\n",
       "      <th>1</th>\n",
       "      <td>1</td>\n",
       "      <td># generated using pymatgen\\ndata_Hf\\n_symmetry...</td>\n",
       "      <td>0.0000</td>\n",
       "      <td>0.181111</td>\n",
       "      <td>Hf</td>\n",
       "      <td>0.0</td>\n",
       "      <td>0.0</td>\n",
       "    </tr>\n",
       "    <tr>\n",
       "      <th>2</th>\n",
       "      <td>2</td>\n",
       "      <td># generated using pymatgen\\ndata_BaTe\\n_symmet...</td>\n",
       "      <td>1.5930</td>\n",
       "      <td>-1.790168</td>\n",
       "      <td>TeBa</td>\n",
       "      <td>0.0</td>\n",
       "      <td>0.0</td>\n",
       "    </tr>\n",
       "    <tr>\n",
       "      <th>3</th>\n",
       "      <td>3</td>\n",
       "      <td># generated using pymatgen\\ndata_Hf2S\\n_symmet...</td>\n",
       "      <td>0.0000</td>\n",
       "      <td>-1.253224</td>\n",
       "      <td>S2Hf4</td>\n",
       "      <td>0.0</td>\n",
       "      <td>0.0</td>\n",
       "    </tr>\n",
       "    <tr>\n",
       "      <th>4</th>\n",
       "      <td>4</td>\n",
       "      <td># generated using pymatgen\\ndata_Nb4CoSi\\n_sym...</td>\n",
       "      <td>0.0064</td>\n",
       "      <td>-0.343178</td>\n",
       "      <td>Si2Co2Nb8</td>\n",
       "      <td>0.0</td>\n",
       "      <td>0.0</td>\n",
       "    </tr>\n",
       "    <tr>\n",
       "      <th>...</th>\n",
       "      <td>...</td>\n",
       "      <td>...</td>\n",
       "      <td>...</td>\n",
       "      <td>...</td>\n",
       "      <td>...</td>\n",
       "      <td>...</td>\n",
       "      <td>...</td>\n",
       "    </tr>\n",
       "    <tr>\n",
       "      <th>69197</th>\n",
       "      <td>69197</td>\n",
       "      <td># generated using pymatgen\\ndata_WO3\\n_symmetr...</td>\n",
       "      <td>1.1162</td>\n",
       "      <td>-2.182536</td>\n",
       "      <td>W2O6</td>\n",
       "      <td>0.0</td>\n",
       "      <td>0.0</td>\n",
       "    </tr>\n",
       "    <tr>\n",
       "      <th>69198</th>\n",
       "      <td>69198</td>\n",
       "      <td># generated using pymatgen\\ndata_NiO2\\n_symmet...</td>\n",
       "      <td>1.5195</td>\n",
       "      <td>-0.549193</td>\n",
       "      <td>NiO2</td>\n",
       "      <td>0.0</td>\n",
       "      <td>0.0</td>\n",
       "    </tr>\n",
       "    <tr>\n",
       "      <th>69199</th>\n",
       "      <td>69199</td>\n",
       "      <td># generated using pymatgen\\ndata_P\\n_symmetry_...</td>\n",
       "      <td>0.0000</td>\n",
       "      <td>0.141298</td>\n",
       "      <td>P4</td>\n",
       "      <td>0.0</td>\n",
       "      <td>0.0</td>\n",
       "    </tr>\n",
       "    <tr>\n",
       "      <th>69200</th>\n",
       "      <td>69200</td>\n",
       "      <td># generated using pymatgen\\ndata_WO3\\n_symmetr...</td>\n",
       "      <td>1.3694</td>\n",
       "      <td>-2.184021</td>\n",
       "      <td>W8O24</td>\n",
       "      <td>0.0</td>\n",
       "      <td>0.0</td>\n",
       "    </tr>\n",
       "    <tr>\n",
       "      <th>69201</th>\n",
       "      <td>69201</td>\n",
       "      <td># generated using pymatgen\\ndata_CuS\\n_symmetr...</td>\n",
       "      <td>0.0000</td>\n",
       "      <td>-0.243736</td>\n",
       "      <td>Cu6S6</td>\n",
       "      <td>0.0</td>\n",
       "      <td>0.0</td>\n",
       "    </tr>\n",
       "  </tbody>\n",
       "</table>\n",
       "<p>69202 rows × 7 columns</p>\n",
       "</div>"
      ],
      "text/plain": [
       "       material_id                                                cif     gap  \\\n",
       "0                0  # generated using pymatgen\\ndata_As\\n_symmetry...  0.0000   \n",
       "1                1  # generated using pymatgen\\ndata_Hf\\n_symmetry...  0.0000   \n",
       "2                2  # generated using pymatgen\\ndata_BaTe\\n_symmet...  1.5930   \n",
       "3                3  # generated using pymatgen\\ndata_Hf2S\\n_symmet...  0.0000   \n",
       "4                4  # generated using pymatgen\\ndata_Nb4CoSi\\n_sym...  0.0064   \n",
       "...            ...                                                ...     ...   \n",
       "69197        69197  # generated using pymatgen\\ndata_WO3\\n_symmetr...  1.1162   \n",
       "69198        69198  # generated using pymatgen\\ndata_NiO2\\n_symmet...  1.5195   \n",
       "69199        69199  # generated using pymatgen\\ndata_P\\n_symmetry_...  0.0000   \n",
       "69200        69200  # generated using pymatgen\\ndata_WO3\\n_symmetr...  1.3694   \n",
       "69201        69201  # generated using pymatgen\\ndata_CuS\\n_symmetr...  0.0000   \n",
       "\n",
       "         e_form    formula  100more  tolerance  \n",
       "0      0.107405        As2      0.0        0.0  \n",
       "1      0.181111         Hf      0.0        0.0  \n",
       "2     -1.790168       TeBa      0.0        0.0  \n",
       "3     -1.253224      S2Hf4      0.0        0.0  \n",
       "4     -0.343178  Si2Co2Nb8      0.0        0.0  \n",
       "...         ...        ...      ...        ...  \n",
       "69197 -2.182536       W2O6      0.0        0.0  \n",
       "69198 -0.549193       NiO2      0.0        0.0  \n",
       "69199  0.141298         P4      0.0        0.0  \n",
       "69200 -2.184021      W8O24      0.0        0.0  \n",
       "69201 -0.243736      Cu6S6      0.0        0.0  \n",
       "\n",
       "[69202 rows x 7 columns]"
      ]
     },
     "execution_count": 15,
     "metadata": {},
     "output_type": "execute_result"
    }
   ],
   "source": [
    "df = pd.DataFrame(megnet_data_dict_list)\n",
    "df['material_id'] = df.index\n",
    "df['100more'] = df['100more'].astype(float)\n",
    "df[['material_id','cif','gap', 'e_form', 'formula', '100more', 'tolerance']]"
   ]
  },
  {
   "cell_type": "code",
   "execution_count": null,
   "metadata": {},
   "outputs": [],
   "source": []
  },
  {
   "cell_type": "code",
   "execution_count": 16,
   "metadata": {},
   "outputs": [
    {
     "name": "stdout",
     "output_type": "stream",
     "text": [
      "(60000, 7) (5000, 7) (4202, 7)\n"
     ]
    }
   ],
   "source": [
    "stratify_label = df['100more'].astype(str) + '_' + df['tolerance'].astype(str)\n",
    "sss = StratifiedShuffleSplit(n_splits=1, test_size=(df.shape[0]-60000)/df.shape[0], random_state=42)\n",
    "for train_idx, test_idx in sss.split(df, stratify_label):\n",
    "    train_df = df.iloc[train_idx].reset_index(drop=True)\n",
    "    test_val_df = df.iloc[test_idx].reset_index(drop=True)\n",
    "\n",
    "sss = StratifiedShuffleSplit(n_splits=1, test_size=(test_val_df.shape[0]-5000)/test_val_df.shape[0], random_state=42)\n",
    "for val_idx, test_idx in sss.split(test_val_df, stratify_label.iloc[test_idx]):\n",
    "    val_df = test_val_df.iloc[val_idx].reset_index(drop=True)\n",
    "    test_df = test_val_df.iloc[test_idx].reset_index(drop=True)\n",
    "print(train_df.shape, val_df.shape, test_df.shape)"
   ]
  },
  {
   "cell_type": "code",
   "execution_count": 17,
   "metadata": {},
   "outputs": [],
   "source": [
    "# train, val, testに分割してデータを保存\n",
    "train_df.to_csv(os.path.join(megnet_data_path, 'train.csv'), index=False)\n",
    "val_df.to_csv(os.path.join(megnet_data_path, 'val.csv'), index=False)\n",
    "test_df.to_csv(os.path.join(megnet_data_path, 'test.csv'), index=False)"
   ]
  },
  {
   "cell_type": "code",
   "execution_count": 18,
   "metadata": {},
   "outputs": [
    {
     "name": "stdout",
     "output_type": "stream",
     "text": [
      "tolerance が0.8 ~ 1.0のペロブスカイト構造の割合 0.00125\n"
     ]
    }
   ],
   "source": [
    "print(\"tolerance が0.8 ~ 1.0のペロブスカイト構造の割合\",(train_df['tolerance']==1.0).sum()/train_df.shape[0])"
   ]
  },
  {
   "cell_type": "code",
   "execution_count": 19,
   "metadata": {},
   "outputs": [
    {
     "name": "stdout",
     "output_type": "stream",
     "text": [
      "tolerance が0.8 ~ 1.0のペロブスカイト構造の割合 0.30521739130434783\n"
     ]
    }
   ],
   "source": [
    "perov_aug_train_df = pd.concat([\n",
    "    train_df,pd.concat([train_df[train_df['tolerance']==1.0]]*350, axis=0)\n",
    "],axis=0)\n",
    "perov_aug_train_df.material_id = range(perov_aug_train_df.shape[0])\n",
    "print(\"tolerance が0.8 ~ 1.0のペロブスカイト構造の割合\",(perov_aug_train_df['tolerance']==1.0).sum()/perov_aug_train_df.shape[0])"
   ]
  },
  {
   "cell_type": "code",
   "execution_count": 20,
   "metadata": {},
   "outputs": [],
   "source": [
    "megnet_perov_data_path = '../data/megnet_perov'\n",
    "os.makedirs(megnet_perov_data_path, exist_ok=True)\n",
    "perov_aug_train_df.to_csv(os.path.join(megnet_perov_data_path, 'train.csv'), index=False)\n",
    "val_df.to_csv(os.path.join(megnet_perov_data_path, 'val.csv'), index=False)\n",
    "test_df.to_csv(os.path.join(megnet_perov_data_path, 'test.csv'), index=False)"
   ]
  },
  {
   "cell_type": "code",
   "execution_count": null,
   "metadata": {},
   "outputs": [],
   "source": []
  }
 ],
 "metadata": {
  "kernelspec": {
   "display_name": ".venv",
   "language": "python",
   "name": "python3"
  },
  "language_info": {
   "codemirror_mode": {
    "name": "ipython",
    "version": 3
   },
   "file_extension": ".py",
   "mimetype": "text/x-python",
   "name": "python",
   "nbconvert_exporter": "python",
   "pygments_lexer": "ipython3",
   "version": "3.11.11"
  }
 },
 "nbformat": 4,
 "nbformat_minor": 2
}
